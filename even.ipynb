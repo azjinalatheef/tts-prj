{
 "cells": [
  {
   "cell_type": "code",
   "execution_count": null,
   "id": "51299803-47a9-4d46-80f5-379b98a36474",
   "metadata": {},
   "outputs": [
    {
     "name": "stdout",
     "output_type": "stream",
     "text": [
      "the nuber of even numbers in the list is :3\n"
     ]
    }
   ],
   "source": [
    "X=[1,2,3,4,5,6,7,8,9,10]\n",
    "even_count=0\n",
    "for number in X:\n",
    "    if number %2==0:\n",
    "        even_count +=1\n",
    "print(f\"the nuber of even numbers in the list is :{even_count}\")\n"
   ]
  },
  {
   "cell_type": "code",
   "execution_count": null,
   "id": "0355068c-c7c1-4861-8734-932bc113afbd",
   "metadata": {},
   "outputs": [],
   "source": []
  }
 ],
 "metadata": {
  "kernelspec": {
   "display_name": "Python 3 (ipykernel)",
   "language": "python",
   "name": "python3"
  },
  "language_info": {
   "codemirror_mode": {
    "name": "ipython",
    "version": 3
   },
   "file_extension": ".py",
   "mimetype": "text/x-python",
   "name": "python",
   "nbconvert_exporter": "python",
   "pygments_lexer": "ipython3",
   "version": "3.12.4"
  }
 },
 "nbformat": 4,
 "nbformat_minor": 5
}
